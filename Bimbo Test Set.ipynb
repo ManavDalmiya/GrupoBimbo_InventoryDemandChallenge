{
 "cells": [
  {
   "cell_type": "code",
   "execution_count": 1,
   "metadata": {
    "collapsed": false
   },
   "outputs": [
    {
     "name": "stderr",
     "output_type": "stream",
     "text": [
      "/Users/OldMacBook/anaconda/lib/python2.7/site-packages/pandas/computation/__init__.py:19: UserWarning: The installed version of numexpr 2.4.4 is not supported in pandas and will be not be used\n",
      "\n",
      "  UserWarning)\n"
     ]
    }
   ],
   "source": [
    "import pandas as pd"
   ]
  },
  {
   "cell_type": "code",
   "execution_count": 30,
   "metadata": {
    "collapsed": false
   },
   "outputs": [],
   "source": [
    "test_data = pd.read_csv('Datasets/test3.csv', low_memory=False)\n",
    "test_data.columns = ['ID', 'Week_number','Sales_Depot_ID','Sales_Channel_ID','Route_ID','Client_ID',\n",
    "'Product_ID']"
   ]
  },
  {
   "cell_type": "code",
   "execution_count": 31,
   "metadata": {
    "collapsed": false
   },
   "outputs": [
    {
     "data": {
      "text/plain": [
       "ID                  249999\n",
       "Week_number         249999\n",
       "Sales_Depot_ID      249999\n",
       "Sales_Channel_ID    249999\n",
       "Route_ID            249999\n",
       "Client_ID           249999\n",
       "Product_ID          249999\n",
       "dtype: int64"
      ]
     },
     "execution_count": 31,
     "metadata": {},
     "output_type": "execute_result"
    }
   ],
   "source": [
    "test_data.count()"
   ]
  },
  {
   "cell_type": "code",
   "execution_count": 32,
   "metadata": {
    "collapsed": true
   },
   "outputs": [],
   "source": [
    "client_table = pd.read_csv('Datasets/Client_Table_Filtered.csv', low_memory=False)"
   ]
  },
  {
   "cell_type": "code",
   "execution_count": 33,
   "metadata": {
    "collapsed": false
   },
   "outputs": [
    {
     "data": {
      "text/plain": [
       "Client_ID      935362\n",
       "Client_Name    935362\n",
       "dtype: int64"
      ]
     },
     "execution_count": 33,
     "metadata": {},
     "output_type": "execute_result"
    }
   ],
   "source": [
    "client_table.count()"
   ]
  },
  {
   "cell_type": "code",
   "execution_count": 34,
   "metadata": {
    "collapsed": true
   },
   "outputs": [],
   "source": [
    "product_table = pd.read_csv('Datasets/producto_tabla.csv', low_memory=False)\n",
    "product_table.columns = ['Product_ID', 'Product_Name']"
   ]
  },
  {
   "cell_type": "code",
   "execution_count": 35,
   "metadata": {
    "collapsed": false
   },
   "outputs": [
    {
     "data": {
      "text/plain": [
       "Product_ID      2592\n",
       "Product_Name    2592\n",
       "dtype: int64"
      ]
     },
     "execution_count": 35,
     "metadata": {},
     "output_type": "execute_result"
    }
   ],
   "source": [
    "product_table.count()"
   ]
  },
  {
   "cell_type": "code",
   "execution_count": 36,
   "metadata": {
    "collapsed": true
   },
   "outputs": [],
   "source": [
    "town_state = pd.read_csv('Datasets/town_state.csv', low_memory=False)\n",
    "\n",
    "town_state.rename(columns = {'Agencia_ID':'Sales_Depot_ID'}, inplace=True)"
   ]
  },
  {
   "cell_type": "code",
   "execution_count": 9,
   "metadata": {
    "collapsed": false
   },
   "outputs": [
    {
     "data": {
      "text/plain": [
       "Sales_Depot_ID    790\n",
       "Town              790\n",
       "State             790\n",
       "dtype: int64"
      ]
     },
     "execution_count": 9,
     "metadata": {},
     "output_type": "execute_result"
    }
   ],
   "source": [
    "town_state.count()"
   ]
  },
  {
   "cell_type": "code",
   "execution_count": 37,
   "metadata": {
    "collapsed": false
   },
   "outputs": [],
   "source": [
    "table1 = pd.merge(test_data, client_table, how = 'inner', on='Client_ID')"
   ]
  },
  {
   "cell_type": "code",
   "execution_count": 38,
   "metadata": {
    "collapsed": true
   },
   "outputs": [],
   "source": [
    "table2 = pd.merge(table1, product_table, how='inner', on='Product_ID')"
   ]
  },
  {
   "cell_type": "code",
   "execution_count": 39,
   "metadata": {
    "collapsed": true
   },
   "outputs": [],
   "source": [
    "table3 = pd.merge(table2, town_state, how='inner', on='Sales_Depot_ID')"
   ]
  },
  {
   "cell_type": "code",
   "execution_count": 40,
   "metadata": {
    "collapsed": false
   },
   "outputs": [
    {
     "data": {
      "text/plain": [
       "ID                  252066\n",
       "Week_number         252066\n",
       "Sales_Depot_ID      252066\n",
       "Sales_Channel_ID    252066\n",
       "Route_ID            252066\n",
       "Client_ID           252066\n",
       "Product_ID          252066\n",
       "Client_Name         252066\n",
       "dtype: int64"
      ]
     },
     "execution_count": 40,
     "metadata": {},
     "output_type": "execute_result"
    }
   ],
   "source": [
    "table1.count()"
   ]
  },
  {
   "cell_type": "code",
   "execution_count": 14,
   "metadata": {
    "collapsed": false
   },
   "outputs": [
    {
     "data": {
      "text/plain": [
       "ID                  7055802\n",
       "Week_number         7055802\n",
       "Sales_Depot_ID      7055802\n",
       "Sales_Channel_ID    7055802\n",
       "Route_ID            7055802\n",
       "Client_ID           7055802\n",
       "Product_ID          7055802\n",
       "Client_Name         7055802\n",
       "Product_Name        7055802\n",
       "dtype: int64"
      ]
     },
     "execution_count": 14,
     "metadata": {},
     "output_type": "execute_result"
    }
   ],
   "source": [
    "table2.count()"
   ]
  },
  {
   "cell_type": "code",
   "execution_count": 15,
   "metadata": {
    "collapsed": false
   },
   "outputs": [
    {
     "data": {
      "text/plain": [
       "ID                  7055802\n",
       "Week_number         7055802\n",
       "Sales_Depot_ID      7055802\n",
       "Sales_Channel_ID    7055802\n",
       "Route_ID            7055802\n",
       "Client_ID           7055802\n",
       "Product_ID          7055802\n",
       "Client_Name         7055802\n",
       "Product_Name        7055802\n",
       "Town                7055802\n",
       "State               7055802\n",
       "dtype: int64"
      ]
     },
     "execution_count": 15,
     "metadata": {},
     "output_type": "execute_result"
    }
   ],
   "source": [
    "table3.count()"
   ]
  },
  {
   "cell_type": "code",
   "execution_count": 38,
   "metadata": {
    "collapsed": false
   },
   "outputs": [
    {
     "data": {
      "text/html": [
       "<div>\n",
       "<table border=\"1\" class=\"dataframe\">\n",
       "  <thead>\n",
       "    <tr style=\"text-align: right;\">\n",
       "      <th></th>\n",
       "      <th>Sales_Depot_ID</th>\n",
       "      <th>Town</th>\n",
       "    </tr>\n",
       "    <tr>\n",
       "      <th>State</th>\n",
       "      <th></th>\n",
       "      <th></th>\n",
       "    </tr>\n",
       "  </thead>\n",
       "  <tbody>\n",
       "    <tr>\n",
       "      <th>AGUASCALIENTES</th>\n",
       "      <td>7</td>\n",
       "      <td>7</td>\n",
       "    </tr>\n",
       "    <tr>\n",
       "      <th>BAJA CALIFORNIA NORTE</th>\n",
       "      <td>32</td>\n",
       "      <td>32</td>\n",
       "    </tr>\n",
       "    <tr>\n",
       "      <th>BAJA CALIFORNIA SUR</th>\n",
       "      <td>17</td>\n",
       "      <td>17</td>\n",
       "    </tr>\n",
       "    <tr>\n",
       "      <th>CAMPECHE</th>\n",
       "      <td>12</td>\n",
       "      <td>12</td>\n",
       "    </tr>\n",
       "    <tr>\n",
       "      <th>CHIAPAS</th>\n",
       "      <td>16</td>\n",
       "      <td>16</td>\n",
       "    </tr>\n",
       "    <tr>\n",
       "      <th>CHIHUAHUA</th>\n",
       "      <td>25</td>\n",
       "      <td>25</td>\n",
       "    </tr>\n",
       "    <tr>\n",
       "      <th>COAHUILA</th>\n",
       "      <td>29</td>\n",
       "      <td>29</td>\n",
       "    </tr>\n",
       "    <tr>\n",
       "      <th>COLIMA</th>\n",
       "      <td>10</td>\n",
       "      <td>10</td>\n",
       "    </tr>\n",
       "    <tr>\n",
       "      <th>DURANGO</th>\n",
       "      <td>11</td>\n",
       "      <td>11</td>\n",
       "    </tr>\n",
       "    <tr>\n",
       "      <th>ESTADO DE MÉXICO</th>\n",
       "      <td>71</td>\n",
       "      <td>71</td>\n",
       "    </tr>\n",
       "    <tr>\n",
       "      <th>GUANAJUATO</th>\n",
       "      <td>39</td>\n",
       "      <td>39</td>\n",
       "    </tr>\n",
       "    <tr>\n",
       "      <th>GUERRERO</th>\n",
       "      <td>21</td>\n",
       "      <td>21</td>\n",
       "    </tr>\n",
       "    <tr>\n",
       "      <th>HIDALGO</th>\n",
       "      <td>21</td>\n",
       "      <td>21</td>\n",
       "    </tr>\n",
       "    <tr>\n",
       "      <th>JALISCO</th>\n",
       "      <td>55</td>\n",
       "      <td>55</td>\n",
       "    </tr>\n",
       "    <tr>\n",
       "      <th>MICHOACÁN</th>\n",
       "      <td>33</td>\n",
       "      <td>33</td>\n",
       "    </tr>\n",
       "    <tr>\n",
       "      <th>MORELOS</th>\n",
       "      <td>14</td>\n",
       "      <td>14</td>\n",
       "    </tr>\n",
       "    <tr>\n",
       "      <th>MÉXICO, D.F.</th>\n",
       "      <td>65</td>\n",
       "      <td>65</td>\n",
       "    </tr>\n",
       "    <tr>\n",
       "      <th>NAYARIT</th>\n",
       "      <td>10</td>\n",
       "      <td>10</td>\n",
       "    </tr>\n",
       "    <tr>\n",
       "      <th>NUEVO LEÓN</th>\n",
       "      <td>34</td>\n",
       "      <td>34</td>\n",
       "    </tr>\n",
       "    <tr>\n",
       "      <th>OAXACA</th>\n",
       "      <td>22</td>\n",
       "      <td>22</td>\n",
       "    </tr>\n",
       "    <tr>\n",
       "      <th>PUEBLA</th>\n",
       "      <td>34</td>\n",
       "      <td>34</td>\n",
       "    </tr>\n",
       "    <tr>\n",
       "      <th>QUERETARO</th>\n",
       "      <td>6</td>\n",
       "      <td>6</td>\n",
       "    </tr>\n",
       "    <tr>\n",
       "      <th>QUINTANA ROO</th>\n",
       "      <td>14</td>\n",
       "      <td>14</td>\n",
       "    </tr>\n",
       "    <tr>\n",
       "      <th>Queretaro de Arteaga</th>\n",
       "      <td>2</td>\n",
       "      <td>2</td>\n",
       "    </tr>\n",
       "    <tr>\n",
       "      <th>SAN LUIS POTOSÍ</th>\n",
       "      <td>15</td>\n",
       "      <td>15</td>\n",
       "    </tr>\n",
       "    <tr>\n",
       "      <th>SINALOA</th>\n",
       "      <td>23</td>\n",
       "      <td>23</td>\n",
       "    </tr>\n",
       "    <tr>\n",
       "      <th>SONORA</th>\n",
       "      <td>34</td>\n",
       "      <td>34</td>\n",
       "    </tr>\n",
       "    <tr>\n",
       "      <th>TABASCO</th>\n",
       "      <td>14</td>\n",
       "      <td>14</td>\n",
       "    </tr>\n",
       "    <tr>\n",
       "      <th>TAMAULIPAS</th>\n",
       "      <td>32</td>\n",
       "      <td>32</td>\n",
       "    </tr>\n",
       "    <tr>\n",
       "      <th>TLAXCALA</th>\n",
       "      <td>6</td>\n",
       "      <td>6</td>\n",
       "    </tr>\n",
       "    <tr>\n",
       "      <th>VERACRUZ</th>\n",
       "      <td>45</td>\n",
       "      <td>45</td>\n",
       "    </tr>\n",
       "    <tr>\n",
       "      <th>YUCATÁN</th>\n",
       "      <td>11</td>\n",
       "      <td>11</td>\n",
       "    </tr>\n",
       "    <tr>\n",
       "      <th>ZACATECAS</th>\n",
       "      <td>10</td>\n",
       "      <td>10</td>\n",
       "    </tr>\n",
       "  </tbody>\n",
       "</table>\n",
       "</div>"
      ],
      "text/plain": [
       "                       Sales_Depot_ID  Town\n",
       "State                                      \n",
       "AGUASCALIENTES                      7     7\n",
       "BAJA CALIFORNIA NORTE              32    32\n",
       "BAJA CALIFORNIA SUR                17    17\n",
       "CAMPECHE                           12    12\n",
       "CHIAPAS                            16    16\n",
       "CHIHUAHUA                          25    25\n",
       "COAHUILA                           29    29\n",
       "COLIMA                             10    10\n",
       "DURANGO                            11    11\n",
       "ESTADO DE MÉXICO                   71    71\n",
       "GUANAJUATO                         39    39\n",
       "GUERRERO                           21    21\n",
       "HIDALGO                            21    21\n",
       "JALISCO                            55    55\n",
       "MICHOACÁN                          33    33\n",
       "MORELOS                            14    14\n",
       "MÉXICO, D.F.                       65    65\n",
       "NAYARIT                            10    10\n",
       "NUEVO LEÓN                         34    34\n",
       "OAXACA                             22    22\n",
       "PUEBLA                             34    34\n",
       "QUERETARO                           6     6\n",
       "QUINTANA ROO                       14    14\n",
       "Queretaro de Arteaga                2     2\n",
       "SAN LUIS POTOSÍ                    15    15\n",
       "SINALOA                            23    23\n",
       "SONORA                             34    34\n",
       "TABASCO                            14    14\n",
       "TAMAULIPAS                         32    32\n",
       "TLAXCALA                            6     6\n",
       "VERACRUZ                           45    45\n",
       "YUCATÁN                            11    11\n",
       "ZACATECAS                          10    10"
      ]
     },
     "execution_count": 38,
     "metadata": {},
     "output_type": "execute_result"
    }
   ],
   "source": [
    "a.groupby(['State']).count()"
   ]
  },
  {
   "cell_type": "code",
   "execution_count": 41,
   "metadata": {
    "collapsed": false
   },
   "outputs": [],
   "source": [
    "# GET DUMMIES FOR STATE VARIABLE\n",
    "state = pd.get_dummies(table3.State, prefix='State')"
   ]
  },
  {
   "cell_type": "code",
   "execution_count": 42,
   "metadata": {
    "collapsed": true
   },
   "outputs": [],
   "source": [
    "# RENAMING Columns\n",
    "state.rename(columns = {'Agencia_ID':'Sales_Depot_ID'}, inplace=True)\n",
    "state.rename(columns = {'State_ESTADO DE MÉXICO':'State_Mexico'}, inplace=True)\n",
    "state.rename(columns = {'State_MÉXICO, D.F.':'State_Mexico_City'}, inplace=True)"
   ]
  },
  {
   "cell_type": "code",
   "execution_count": 22,
   "metadata": {
    "collapsed": false
   },
   "outputs": [],
   "source": [
    "# SELECTING STATES\n",
    "state1 = \n",
    "\n"
   ]
  },
  {
   "cell_type": "code",
   "execution_count": 43,
   "metadata": {
    "collapsed": false
   },
   "outputs": [],
   "source": [
    "table4 = table3.join(state[['State_Mexico','State_Mexico_City']])"
   ]
  },
  {
   "cell_type": "code",
   "execution_count": 44,
   "metadata": {
    "collapsed": false
   },
   "outputs": [
    {
     "data": {
      "text/plain": [
       "ID                   252066\n",
       "Week_number          252066\n",
       "Sales_Depot_ID       252066\n",
       "Sales_Channel_ID     252066\n",
       "Route_ID             252066\n",
       "Client_ID            252066\n",
       "Product_ID           252066\n",
       "Client_Name          252066\n",
       "Product_Name         252066\n",
       "Town                 252066\n",
       "State                252066\n",
       "State_Mexico         252066\n",
       "State_Mexico_City    252066\n",
       "dtype: int64"
      ]
     },
     "execution_count": 44,
     "metadata": {},
     "output_type": "execute_result"
    }
   ],
   "source": [
    "table4.count()"
   ]
  },
  {
   "cell_type": "code",
   "execution_count": 26,
   "metadata": {
    "collapsed": true
   },
   "outputs": [],
   "source": [
    "client_type = pd.get_dummies(table4.Client_Name)"
   ]
  },
  {
   "cell_type": "code",
   "execution_count": 45,
   "metadata": {
    "collapsed": true
   },
   "outputs": [],
   "source": [
    "table5 = table4.join(client_type)"
   ]
  },
  {
   "cell_type": "code",
   "execution_count": 46,
   "metadata": {
    "collapsed": false
   },
   "outputs": [
    {
     "data": {
      "text/plain": [
       "ID                     252066\n",
       "Week_number            252066\n",
       "Sales_Depot_ID         252066\n",
       "Sales_Channel_ID       252066\n",
       "Route_ID               252066\n",
       "Client_ID              252066\n",
       "Product_ID             252066\n",
       "Client_Name            252066\n",
       "Product_Name           252066\n",
       "Town                   252066\n",
       "State                  252066\n",
       "State_Mexico           252066\n",
       "State_Mexico_City      252066\n",
       "Bimbo Store            252066\n",
       "Consignment            252066\n",
       "Eatery                 252066\n",
       "Fresh Market           252066\n",
       "General Market/Mart    252066\n",
       "Govt Store             252066\n",
       "Hospital/Pharmacy      252066\n",
       "Hotel                  252066\n",
       "Individual             252066\n",
       "NO IDENTIFICADO        252066\n",
       "Oxxo Store             252066\n",
       "Post                   252066\n",
       "School                 252066\n",
       "Small Franchise        252066\n",
       "Supermarket            252066\n",
       "Walmart                252066\n",
       "dtype: int64"
      ]
     },
     "execution_count": 46,
     "metadata": {},
     "output_type": "execute_result"
    }
   ],
   "source": [
    "table5.count()"
   ]
  },
  {
   "cell_type": "code",
   "execution_count": 47,
   "metadata": {
    "collapsed": false
   },
   "outputs": [],
   "source": [
    "table5.to_csv(\"/Users/OldMacBook/Desktop/School/General Assembly/DataScience/DAT-NYC-39/dataProject/Datasets/Bimbo_Test.csv\", index=False)"
   ]
  },
  {
   "cell_type": "code",
   "execution_count": null,
   "metadata": {
    "collapsed": true
   },
   "outputs": [],
   "source": []
  }
 ],
 "metadata": {
  "kernelspec": {
   "display_name": "Python 2",
   "language": "python",
   "name": "python2"
  },
  "language_info": {
   "codemirror_mode": {
    "name": "ipython",
    "version": 2
   },
   "file_extension": ".py",
   "mimetype": "text/x-python",
   "name": "python",
   "nbconvert_exporter": "python",
   "pygments_lexer": "ipython2",
   "version": "2.7.12"
  }
 },
 "nbformat": 4,
 "nbformat_minor": 0
}
