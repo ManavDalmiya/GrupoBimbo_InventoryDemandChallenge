{
 "cells": [
  {
   "cell_type": "code",
   "execution_count": 1,
   "metadata": {
    "collapsed": false
   },
   "outputs": [
    {
     "name": "stderr",
     "output_type": "stream",
     "text": [
      "/Users/OldMacBook/anaconda/lib/python2.7/site-packages/pandas/computation/__init__.py:19: UserWarning: The installed version of numexpr 2.4.4 is not supported in pandas and will be not be used\n",
      "\n",
      "  UserWarning)\n"
     ]
    }
   ],
   "source": [
    "from sklearn import datasets\n",
    "from sklearn import metrics\n",
    "import pandas as pd\n",
    "import numpy as np\n",
    "\n",
    "import seaborn as sb\n",
    "\n",
    "import matplotlib.pyplot as plt\n",
    "%matplotlib inline"
   ]
  },
  {
   "cell_type": "code",
   "execution_count": 2,
   "metadata": {
    "collapsed": true
   },
   "outputs": [],
   "source": [
    "# READ IN BIMBO_TABLE\n",
    "df = pd.read_csv('Datasets/Bimbo_Table.csv', low_memory=False)"
   ]
  },
  {
   "cell_type": "code",
   "execution_count": null,
   "metadata": {
    "collapsed": false
   },
   "outputs": [],
   "source": [
    "df['Adjusted_Demand'].plot(kind='bar')"
   ]
  },
  {
   "cell_type": "code",
   "execution_count": 1,
   "metadata": {
    "collapsed": false
   },
   "outputs": [
    {
     "ename": "NameError",
     "evalue": "name 'sb' is not defined",
     "output_type": "error",
     "traceback": [
      "\u001b[0;31m---------------------------------------------------------------------------\u001b[0m",
      "\u001b[0;31mNameError\u001b[0m                                 Traceback (most recent call last)",
      "\u001b[0;32m<ipython-input-1-fd377b4eccae>\u001b[0m in \u001b[0;36m<module>\u001b[0;34m()\u001b[0m\n\u001b[0;32m----> 1\u001b[0;31m p = sb.factorplot(x='Client_Name', \n\u001b[0m\u001b[1;32m      2\u001b[0m               \u001b[0my\u001b[0m\u001b[0;34m=\u001b[0m\u001b[0;34m'Adjusted_Demand'\u001b[0m\u001b[0;34m,\u001b[0m\u001b[0;34m\u001b[0m\u001b[0m\n\u001b[1;32m      3\u001b[0m               \u001b[0mkind\u001b[0m\u001b[0;34m=\u001b[0m\u001b[0;34m'bar'\u001b[0m\u001b[0;34m,\u001b[0m\u001b[0;34m\u001b[0m\u001b[0m\n\u001b[1;32m      4\u001b[0m               \u001b[0mdata\u001b[0m \u001b[0;34m=\u001b[0m \u001b[0mdf\u001b[0m\u001b[0;34m,\u001b[0m\u001b[0;34m\u001b[0m\u001b[0m\n\u001b[1;32m      5\u001b[0m              size = 7)\n",
      "\u001b[0;31mNameError\u001b[0m: name 'sb' is not defined"
     ]
    }
   ],
   "source": [
    "p = sb.factorplot(x='Client_Name', \n",
    "              y='Adjusted_Demand',\n",
    "              kind='bar',\n",
    "              data = df,\n",
    "             size = 7)\n",
    "p.set_xticklabels(rotation=45, horizontalalignment='right')"
   ]
  },
  {
   "cell_type": "code",
   "execution_count": null,
   "metadata": {
    "collapsed": false
   },
   "outputs": [],
   "source": [
    "df.State.value_counts()"
   ]
  },
  {
   "cell_type": "code",
   "execution_count": 3,
   "metadata": {
    "collapsed": true
   },
   "outputs": [],
   "source": [
    "z = df['State'].apply(lambda x: 0 if x == \"MÉXICO, D.F.\" else 1)"
   ]
  },
  {
   "cell_type": "code",
   "execution_count": null,
   "metadata": {
    "collapsed": false
   },
   "outputs": [],
   "source": [
    "z.head()"
   ]
  },
  {
   "cell_type": "code",
   "execution_count": null,
   "metadata": {
    "collapsed": false
   },
   "outputs": [],
   "source": [
    "r = sb.factorplot(x=z, \n",
    "              y='Adjusted_Demand',\n",
    "              kind='bar',\n",
    "              data = df,\n",
    "             size = 7)\n",
    "r.set_xticklabels(rotation=45, horizontalalignment='right')"
   ]
  },
  {
   "cell_type": "code",
   "execution_count": null,
   "metadata": {
    "collapsed": true
   },
   "outputs": [],
   "source": []
  },
  {
   "cell_type": "code",
   "execution_count": null,
   "metadata": {
    "collapsed": false
   },
   "outputs": [],
   "source": [
    "df.groupby('Client_Name').Adjusted_Demand.bar()"
   ]
  },
  {
   "cell_type": "code",
   "execution_count": null,
   "metadata": {
    "collapsed": false
   },
   "outputs": [],
   "source": [
    "df.Adjusted_Demand.value_counts()"
   ]
  },
  {
   "cell_type": "code",
   "execution_count": null,
   "metadata": {
    "collapsed": false,
    "scrolled": true
   },
   "outputs": [],
   "source": [
    "df.head()"
   ]
  },
  {
   "cell_type": "code",
   "execution_count": null,
   "metadata": {
    "collapsed": false
   },
   "outputs": [],
   "source": [
    "df.describe()"
   ]
  },
  {
   "cell_type": "code",
   "execution_count": 11,
   "metadata": {
    "collapsed": false
   },
   "outputs": [],
   "source": [
    "X = df[[ 'Depot_1110', 'Depot_1111', 'Depot_1112', 'Depot_1113', 'Depot_1114', 'Depot_1116', 'Depot_1117', \\\n",
    "        'Weekly_Sales_Units', 'State_Mexico_City', 'Bimbo Store', 'Eatery', 'Fresh Market', \\\n",
    "        'General Market/Mart', 'Govt Store', 'Hospital/Pharmacy', 'Hotel', 'Individual', 'NO IDENTIFICADO', \\\n",
    "         'Post', 'School', 'Small Franchise', 'Supermarket', 'Walmart']]"
   ]
  },
  {
   "cell_type": "code",
   "execution_count": 12,
   "metadata": {
    "collapsed": false
   },
   "outputs": [],
   "source": [
    "y = df['Adjusted_Demand'].apply(lambda x: 8 if x >= 8 else x)"
   ]
  },
  {
   "cell_type": "code",
   "execution_count": 13,
   "metadata": {
    "collapsed": false
   },
   "outputs": [
    {
     "data": {
      "text/plain": [
       "8    65959\n",
       "2    45327\n",
       "1    32249\n",
       "3    31988\n",
       "4    25032\n",
       "5    23866\n",
       "6    15781\n",
       "7     7663\n",
       "0     3327\n",
       "Name: Adjusted_Demand, dtype: int64"
      ]
     },
     "execution_count": 13,
     "metadata": {},
     "output_type": "execute_result"
    }
   ],
   "source": [
    "y.value_counts()"
   ]
  },
  {
   "cell_type": "code",
   "execution_count": 14,
   "metadata": {
    "collapsed": true
   },
   "outputs": [],
   "source": [
    "w = df['Adjusted_Demand'].apply(lambda x: 1 if x >= 4 else 0)"
   ]
  },
  {
   "cell_type": "code",
   "execution_count": 15,
   "metadata": {
    "collapsed": false
   },
   "outputs": [
    {
     "data": {
      "text/plain": [
       "1    138301\n",
       "0    112891\n",
       "Name: Adjusted_Demand, dtype: int64"
      ]
     },
     "execution_count": 15,
     "metadata": {},
     "output_type": "execute_result"
    }
   ],
   "source": [
    "w.value_counts()"
   ]
  },
  {
   "cell_type": "code",
   "execution_count": 16,
   "metadata": {
    "collapsed": true
   },
   "outputs": [],
   "source": [
    "from sklearn import grid_search, cross_validation\n",
    "from sklearn.linear_model import LogisticRegression\n",
    "lm = LogisticRegression()"
   ]
  },
  {
   "cell_type": "code",
   "execution_count": 17,
   "metadata": {
    "collapsed": true
   },
   "outputs": [],
   "source": [
    "X2 = df[['Depot_1111', 'Depot_1112', 'Depot_1113', 'Depot_1114', 'Depot_1116', 'Depot_1117', \\\n",
    "        'Weekly_Sales_Units', 'State_Mexico_City', 'Walmart']]"
   ]
  },
  {
   "cell_type": "code",
   "execution_count": 18,
   "metadata": {
    "collapsed": true
   },
   "outputs": [],
   "source": [
    "%matplotlib inline\n",
    "import matplotlib.pyplot as plt\n",
    "from sklearn.metrics import roc_curve, roc_auc_score"
   ]
  },
  {
   "cell_type": "code",
   "execution_count": 19,
   "metadata": {
    "collapsed": false
   },
   "outputs": [
    {
     "data": {
      "text/plain": [
       "LogisticRegression(C=1.0, class_weight=None, dual=False, fit_intercept=True,\n",
       "          intercept_scaling=1, max_iter=100, multi_class='ovr', n_jobs=1,\n",
       "          penalty='l2', random_state=None, solver='liblinear', tol=0.0001,\n",
       "          verbose=0, warm_start=False)"
      ]
     },
     "execution_count": 19,
     "metadata": {},
     "output_type": "execute_result"
    }
   ],
   "source": [
    "#  Logistic Regression: SK Learn\n",
    "lm.fit(X2, w)"
   ]
  },
  {
   "cell_type": "code",
   "execution_count": 20,
   "metadata": {
    "collapsed": false
   },
   "outputs": [
    {
     "name": "stdout",
     "output_type": "stream",
     "text": [
      "0.994534061594\n"
     ]
    }
   ],
   "source": [
    "#  Logistic Regression Score: SK Learn\n",
    "print lm.score(X2, w)"
   ]
  },
  {
   "cell_type": "code",
   "execution_count": 41,
   "metadata": {
    "collapsed": false
   },
   "outputs": [
    {
     "data": {
      "text/plain": [
       "[<matplotlib.lines.Line2D at 0x1160d4050>]"
      ]
     },
     "execution_count": 41,
     "metadata": {},
     "output_type": "execute_result"
    },
    {
     "data": {
      "image/png": "[encoded data removed]",
      "text/plain": [
       "<matplotlib.figure.Figure at 0x11336dc90>"
      ]
     },
     "metadata": {},
     "output_type": "display_data"
    }
   ],
   "source": [
    "#  Logistic Regression ROC Curve: SK Learn\n",
    "actuals = lm.predict(X2) \n",
    "probas = lm.predict_proba(X2)\n",
    "plt.plot(roc_curve(w, probas[:,1])[0], roc_curve(w, probas[:,1])[1])"
   ]
  },
  {
   "cell_type": "code",
   "execution_count": 42,
   "metadata": {
    "collapsed": false
   },
   "outputs": [
    {
     "data": {
      "text/plain": [
       "0.99407108384292708"
      ]
     },
     "execution_count": 42,
     "metadata": {},
     "output_type": "execute_result"
    }
   ],
   "source": [
    "#  Logistic Regression AUC Score: SK Learn\n",
    "\n",
    "roc_auc_score(w, lm.predict(X2))\n"
   ]
  },
  {
   "cell_type": "code",
   "execution_count": 23,
   "metadata": {
    "collapsed": false
   },
   "outputs": [
    {
     "name": "stdout",
     "output_type": "stream",
     "text": [
      "[[-0.1388751  -0.34011023 -0.48261292 -0.16747438 -0.16568719 -4.12890493\n",
      "   3.45209682 -0.29713258 -0.32090906]]\n",
      "[-11.9084766]\n",
      "0.55057884009\n"
     ]
    }
   ],
   "source": [
    "#  Logistic Regression Coef, Intercepts, Adjusted Demand Mean: SK Learn\n",
    "\n",
    "print lm.coef_\n",
    "print lm.intercept_\n",
    "print w.mean()"
   ]
  },
  {
   "cell_type": "code",
   "execution_count": 24,
   "metadata": {
    "collapsed": false
   },
   "outputs": [
    {
     "ename": "SyntaxError",
     "evalue": "invalid syntax (<ipython-input-24-5e785a20882a>, line 1)",
     "output_type": "error",
     "traceback": [
      "\u001b[0;36m  File \u001b[0;32m\"<ipython-input-24-5e785a20882a>\"\u001b[0;36m, line \u001b[0;32m1\u001b[0m\n\u001b[0;31m    print lm.\u001b[0m\n\u001b[0m             ^\u001b[0m\n\u001b[0;31mSyntaxError\u001b[0m\u001b[0;31m:\u001b[0m invalid syntax\n"
     ]
    }
   ],
   "source": [
    "print lm."
   ]
  },
  {
   "cell_type": "code",
   "execution_count": 25,
   "metadata": {
    "collapsed": false
   },
   "outputs": [
    {
     "name": "stdout",
     "output_type": "stream",
     "text": [
      "[[  8.70336724e-01   7.11691868e-01   6.17168671e-01   8.45798282e-01\n",
      "    8.47311241e-01   1.61005004e-02   3.15665124e+01   7.42945503e-01\n",
      "    7.25489224e-01]]\n",
      "[  6.73308850e-06]\n",
      "0.55057884009\n"
     ]
    }
   ],
   "source": [
    "\n",
    "print np.exp(lm.coef_)\n",
    "print np.exp(lm.intercept_)\n",
    "print w.mean()"
   ]
  },
  {
   "cell_type": "code",
   "execution_count": 26,
   "metadata": {
    "collapsed": true
   },
   "outputs": [],
   "source": [
    "def sigmoid_func(logit):\n",
    "    # uses a float (logit) and returns back the probability\n",
    "    return 1. / (1 + np.exp(-logit))"
   ]
  },
  {
   "cell_type": "code",
   "execution_count": 27,
   "metadata": {
    "collapsed": false
   },
   "outputs": [
    {
     "data": {
      "text/plain": [
       "array([[ 0.46533692,  0.4157827 ,  0.38163531,  0.45822899,  0.4586727 ,\n",
       "         0.01584538,  0.96929361,  0.4262586 ,  0.42045422]])"
      ]
     },
     "execution_count": 27,
     "metadata": {},
     "output_type": "execute_result"
    }
   ],
   "source": [
    "sigmoid_func(lm.coef_)"
   ]
  },
  {
   "cell_type": "code",
   "execution_count": null,
   "metadata": {
    "collapsed": true
   },
   "outputs": [],
   "source": [
    "def odds_ratio(probs):\n",
    "    return "
   ]
  },
  {
   "cell_type": "code",
   "execution_count": null,
   "metadata": {
    "collapsed": false
   },
   "outputs": [],
   "source": [
    "#Accuracy"
   ]
  },
  {
   "cell_type": "code",
   "execution_count": 35,
   "metadata": {
    "collapsed": true
   },
   "outputs": [],
   "source": [
    "from sklearn import dummy, metrics"
   ]
  },
  {
   "cell_type": "code",
   "execution_count": 36,
   "metadata": {
    "collapsed": true
   },
   "outputs": [],
   "source": [
    "# Dummy Model\n",
    "model0 = dummy.DummyClassifier()\n",
    "model0.fit(X2, w)\n",
    "df['probability_0'] = model0.predict_proba(X2).T[1]\n"
   ]
  },
  {
   "cell_type": "code",
   "execution_count": 37,
   "metadata": {
    "collapsed": true
   },
   "outputs": [],
   "source": [
    "df['probability_1'] = lm.predict_proba(X2).T[1]"
   ]
  },
  {
   "cell_type": "code",
   "execution_count": 43,
   "metadata": {
    "collapsed": false,
    "scrolled": false
   },
   "outputs": [
    {
     "data": {
      "text/plain": [
       "[(0, 1),\n",
       " <matplotlib.text.Text at 0x1164b2d90>,\n",
       " (0, 1),\n",
       " <matplotlib.text.Text at 0x113361050>,\n",
       " <matplotlib.text.Text at 0x1185c6550>]"
      ]
     },
     "execution_count": 43,
     "metadata": {},
     "output_type": "execute_result"
    },
    {
     "data": {
      "image/png": "[encoded data removed]",
      "text/plain": [
       "<matplotlib.figure.Figure at 0x11603bd90>"
      ]
     },
     "metadata": {},
     "output_type": "display_data"
    }
   ],
   "source": [
    "ax = plt.subplot(111)\n",
    "vals = metrics.roc_curve(w, df.probability_0)\n",
    "ax.plot(vals[0], vals[1])\n",
    "vals = metrics.roc_curve(w, df.probability_1)\n",
    "ax.plot(vals[0], vals[1])\n",
    "\n",
    "ax.set(title='Area Under the Curve for Prediction of High Returns', ylabel='', xlabel='', xlim=(0, 1), ylim=(0, 1))"
   ]
  },
  {
   "cell_type": "code",
   "execution_count": 39,
   "metadata": {
    "collapsed": false
   },
   "outputs": [
    {
     "data": {
      "text/plain": [
       "[(0, 1),\n",
       " <matplotlib.text.Text at 0x112706a50>,\n",
       " (0, 1),\n",
       " <matplotlib.text.Text at 0x113165550>,\n",
       " <matplotlib.text.Text at 0x113375990>]"
      ]
     },
     "execution_count": 39,
     "metadata": {},
     "output_type": "execute_result"
    },
    {
     "data": {
      "image/png": "[encoded data removed]",
      "text/plain": [
       "<matplotlib.figure.Figure at 0x1131f4510>"
      ]
     },
     "metadata": {},
     "output_type": "display_data"
    }
   ],
   "source": [
    "ax = plt.subplot(111)\n",
    "for i in range(2):\n",
    "    vals = metrics.precision_recall_curve(w, df['probability_' + str(i)])\n",
    "    ax.plot(vals[1], vals[0])\n",
    "\n",
    "ax.set(title='Precision Recall Curve for prediction delayed=1', ylabel='', xlabel='', xlim=(0, 1), ylim=(0, 1))"
   ]
  },
  {
   "cell_type": "code",
   "execution_count": 40,
   "metadata": {
    "collapsed": false
   },
   "outputs": [],
   "source": [
    "# Coefficients represent the log-odds. This includes the y-intercept. \n"
   ]
  },
  {
   "cell_type": "code",
   "execution_count": null,
   "metadata": {
    "collapsed": true
   },
   "outputs": [],
   "source": []
  },
  {
   "cell_type": "code",
   "execution_count": 28,
   "metadata": {
    "collapsed": true
   },
   "outputs": [],
   "source": [
    "import statsmodels.formula.api as smf"
   ]
  },
  {
   "cell_type": "code",
   "execution_count": 29,
   "metadata": {
    "collapsed": false
   },
   "outputs": [
    {
     "name": "stdout",
     "output_type": "stream",
     "text": [
      "Optimization terminated successfully.\n",
      "         Current function value: inf\n",
      "         Iterations 12\n"
     ]
    },
    {
     "data": {
      "text/html": [
       "<table class=\"simpletable\">\n",
       "<caption>Logit Regression Results</caption>\n",
       "<tr>\n",
       "  <th>Dep. Variable:</th>  <td>Adjusted_Demand</td> <th>  No. Observations:  </th>   <td>251192</td>   \n",
       "</tr>\n",
       "<tr>\n",
       "  <th>Model:</th>               <td>Logit</td>      <th>  Df Residuals:      </th>   <td>251183</td>   \n",
       "</tr>\n",
       "<tr>\n",
       "  <th>Method:</th>               <td>MLE</td>       <th>  Df Model:          </th>   <td>     8</td>   \n",
       "</tr>\n",
       "<tr>\n",
       "  <th>Date:</th>          <td>Wed, 21 Sep 2016</td> <th>  Pseudo R-squ.:     </th>   <td>  -inf</td>   \n",
       "</tr>\n",
       "<tr>\n",
       "  <th>Time:</th>              <td>06:13:42</td>     <th>  Log-Likelihood:    </th>  <td>    -inf</td>  \n",
       "</tr>\n",
       "<tr>\n",
       "  <th>converged:</th>           <td>True</td>       <th>  LL-Null:           </th> <td>-1.7283e+05</td>\n",
       "</tr>\n",
       "<tr>\n",
       "  <th> </th>                      <td> </td>        <th>  LLR p-value:       </th>   <td> 1.000</td>   \n",
       "</tr>\n",
       "</table>\n",
       "<table class=\"simpletable\">\n",
       "<tr>\n",
       "           <td></td>             <th>coef</th>     <th>std err</th>      <th>z</th>      <th>P>|z|</th> <th>[95.0% Conf. Int.]</th> \n",
       "</tr>\n",
       "<tr>\n",
       "  <th>Depot_1111</th>         <td>   -6.5651</td> <td>    0.045</td> <td> -145.252</td> <td> 0.000</td> <td>   -6.654    -6.477</td>\n",
       "</tr>\n",
       "<tr>\n",
       "  <th>Depot_1112</th>         <td>   -7.7400</td> <td>    0.044</td> <td> -174.724</td> <td> 0.000</td> <td>   -7.827    -7.653</td>\n",
       "</tr>\n",
       "<tr>\n",
       "  <th>Depot_1113</th>         <td>   -8.8934</td> <td>    0.051</td> <td> -175.996</td> <td> 0.000</td> <td>   -8.992    -8.794</td>\n",
       "</tr>\n",
       "<tr>\n",
       "  <th>Depot_1114</th>         <td>   -6.5452</td> <td>    0.068</td> <td>  -96.342</td> <td> 0.000</td> <td>   -6.678    -6.412</td>\n",
       "</tr>\n",
       "<tr>\n",
       "  <th>Depot_1116</th>         <td>   -6.8199</td> <td>    0.044</td> <td> -155.705</td> <td> 0.000</td> <td>   -6.906    -6.734</td>\n",
       "</tr>\n",
       "<tr>\n",
       "  <th>Depot_1117</th>         <td>  -10.7049</td> <td>    0.128</td> <td>  -83.826</td> <td> 0.000</td> <td>  -10.955   -10.455</td>\n",
       "</tr>\n",
       "<tr>\n",
       "  <th>Weekly_Sales_Units</th> <td>    2.4798</td> <td>    0.013</td> <td>  196.680</td> <td> 0.000</td> <td>    2.455     2.504</td>\n",
       "</tr>\n",
       "<tr>\n",
       "  <th>State_Mexico_City</th>  <td>   -2.3605</td> <td>    0.030</td> <td>  -78.561</td> <td> 0.000</td> <td>   -2.419    -2.302</td>\n",
       "</tr>\n",
       "<tr>\n",
       "  <th>Walmart</th>            <td>   -2.2708</td> <td>    0.653</td> <td>   -3.479</td> <td> 0.001</td> <td>   -3.550    -0.991</td>\n",
       "</tr>\n",
       "</table>"
      ],
      "text/plain": [
       "<class 'statsmodels.iolib.summary.Summary'>\n",
       "\"\"\"\n",
       "                           Logit Regression Results                           \n",
       "==============================================================================\n",
       "Dep. Variable:        Adjusted_Demand   No. Observations:               251192\n",
       "Model:                          Logit   Df Residuals:                   251183\n",
       "Method:                           MLE   Df Model:                            8\n",
       "Date:                Wed, 21 Sep 2016   Pseudo R-squ.:                    -inf\n",
       "Time:                        06:13:42   Log-Likelihood:                   -inf\n",
       "converged:                       True   LL-Null:                   -1.7283e+05\n",
       "                                        LLR p-value:                     1.000\n",
       "======================================================================================\n",
       "                         coef    std err          z      P>|z|      [95.0% Conf. Int.]\n",
       "--------------------------------------------------------------------------------------\n",
       "Depot_1111            -6.5651      0.045   -145.252      0.000        -6.654    -6.477\n",
       "Depot_1112            -7.7400      0.044   -174.724      0.000        -7.827    -7.653\n",
       "Depot_1113            -8.8934      0.051   -175.996      0.000        -8.992    -8.794\n",
       "Depot_1114            -6.5452      0.068    -96.342      0.000        -6.678    -6.412\n",
       "Depot_1116            -6.8199      0.044   -155.705      0.000        -6.906    -6.734\n",
       "Depot_1117           -10.7049      0.128    -83.826      0.000       -10.955   -10.455\n",
       "Weekly_Sales_Units     2.4798      0.013    196.680      0.000         2.455     2.504\n",
       "State_Mexico_City     -2.3605      0.030    -78.561      0.000        -2.419    -2.302\n",
       "Walmart               -2.2708      0.653     -3.479      0.001        -3.550    -0.991\n",
       "======================================================================================\n",
       "\"\"\""
      ]
     },
     "execution_count": 29,
     "metadata": {},
     "output_type": "execute_result"
    }
   ],
   "source": [
    "\n",
    "lm_2 = smf.Logit(w, X2).fit()\n",
    "\n",
    "lm_2.summary()"
   ]
  },
  {
   "cell_type": "code",
   "execution_count": 33,
   "metadata": {
    "collapsed": false
   },
   "outputs": [
    {
     "name": "stdout",
     "output_type": "stream",
     "text": [
      "                           Logit Regression Results                           \n",
      "==============================================================================\n",
      "Dep. Variable:        Adjusted_Demand   No. Observations:               251192\n",
      "Model:                          Logit   Df Residuals:                   251183\n",
      "Method:                           MLE   Df Model:                            8\n",
      "Date:                Wed, 21 Sep 2016   Pseudo R-squ.:                    -inf\n",
      "Time:                        06:21:30   Log-Likelihood:                   -inf\n",
      "converged:                       True   LL-Null:                   -1.7283e+05\n",
      "                                        LLR p-value:                     1.000\n",
      "======================================================================================\n",
      "                         coef    std err          z      P>|z|      [95.0% Conf. Int.]\n",
      "--------------------------------------------------------------------------------------\n",
      "Depot_1111            -6.5651      0.045   -145.252      0.000        -6.654    -6.477\n",
      "Depot_1112            -7.7400      0.044   -174.724      0.000        -7.827    -7.653\n",
      "Depot_1113            -8.8934      0.051   -175.996      0.000        -8.992    -8.794\n",
      "Depot_1114            -6.5452      0.068    -96.342      0.000        -6.678    -6.412\n",
      "Depot_1116            -6.8199      0.044   -155.705      0.000        -6.906    -6.734\n",
      "Depot_1117           -10.7049      0.128    -83.826      0.000       -10.955   -10.455\n",
      "Weekly_Sales_Units     2.4798      0.013    196.680      0.000         2.455     2.504\n",
      "State_Mexico_City     -2.3605      0.030    -78.561      0.000        -2.419    -2.302\n",
      "Walmart               -2.2708      0.653     -3.479      0.001        -3.550    -0.991\n",
      "======================================================================================\n"
     ]
    }
   ],
   "source": [
    "print lm_2.summary()"
   ]
  },
  {
   "cell_type": "code",
   "execution_count": 34,
   "metadata": {
    "collapsed": false
   },
   "outputs": [
    {
     "name": "stdout",
     "output_type": "stream",
     "text": [
      "Depot_1111             0.001409\n",
      "Depot_1112             0.000435\n",
      "Depot_1113             0.000137\n",
      "Depot_1114             0.001437\n",
      "Depot_1116             0.001092\n",
      "Depot_1117             0.000022\n",
      "Weekly_Sales_Units    11.938657\n",
      "State_Mexico_City      0.094370\n",
      "Walmart                0.103233\n",
      "Name: OR, dtype: float64\n"
     ]
    }
   ],
   "source": [
    "params = lm_2.params\n",
    "conf = lm_2.conf_int()\n",
    "conf['OR'] = params\n",
    "conf.columns = ['2.5%', '97.5%', 'OR']\n",
    "print np.exp(conf.OR)"
   ]
  },
  {
   "cell_type": "code",
   "execution_count": 31,
   "metadata": {
    "collapsed": true
   },
   "outputs": [],
   "source": [
    "params = np.exp(lm_2.params)"
   ]
  },
  {
   "cell_type": "code",
   "execution_count": 32,
   "metadata": {
    "collapsed": false
   },
   "outputs": [
    {
     "name": "stdout",
     "output_type": "stream",
     "text": [
      "Depot_1111             0.001409\n",
      "Depot_1112             0.000435\n",
      "Depot_1113             0.000137\n",
      "Depot_1114             0.001437\n",
      "Depot_1116             0.001092\n",
      "Depot_1117             0.000022\n",
      "Weekly_Sales_Units    11.938657\n",
      "State_Mexico_City      0.094370\n",
      "Walmart                0.103233\n",
      "dtype: float64\n"
     ]
    }
   ],
   "source": [
    "print params"
   ]
  },
  {
   "cell_type": "code",
   "execution_count": null,
   "metadata": {
    "collapsed": false
   },
   "outputs": [],
   "source": [
    "print lm.score(X2, w)"
   ]
  },
  {
   "cell_type": "code",
   "execution_count": null,
   "metadata": {
    "collapsed": false
   },
   "outputs": [],
   "source": [
    "actuals = lm.predict(X2) \n",
    "probas = lm.predict_proba(X2)\n",
    "plt.plot(roc_curve(w, probas[:,1])[0], roc_curve(w, probas[:,1])[1])"
   ]
  },
  {
   "cell_type": "code",
   "execution_count": null,
   "metadata": {
    "collapsed": false
   },
   "outputs": [],
   "source": []
  },
  {
   "cell_type": "code",
   "execution_count": null,
   "metadata": {
    "collapsed": false
   },
   "outputs": [],
   "source": []
  },
  {
   "cell_type": "code",
   "execution_count": null,
   "metadata": {
    "collapsed": true
   },
   "outputs": [],
   "source": []
  },
  {
   "cell_type": "code",
   "execution_count": null,
   "metadata": {
    "collapsed": false
   },
   "outputs": [],
   "source": [
    "actuals = lm.predict(X2) \n",
    "probas = lm.predict_proba(X2)\n",
    "plt.plot(roc_curve(w, probas[:,1])[0], roc_curve(w, probas[:,1])[1])"
   ]
  },
  {
   "cell_type": "code",
   "execution_count": null,
   "metadata": {
    "collapsed": false
   },
   "outputs": [],
   "source": []
  },
  {
   "cell_type": "code",
   "execution_count": null,
   "metadata": {
    "collapsed": true
   },
   "outputs": [],
   "source": [
    "# Grid Search Metho"
   ]
  },
  {
   "cell_type": "code",
   "execution_count": null,
   "metadata": {
    "collapsed": false
   },
   "outputs": [],
   "source": []
  },
  {
   "cell_type": "code",
   "execution_count": null,
   "metadata": {
    "collapsed": true
   },
   "outputs": [],
   "source": []
  },
  {
   "cell_type": "code",
   "execution_count": null,
   "metadata": {
    "collapsed": true
   },
   "outputs": [],
   "source": []
  },
  {
   "cell_type": "code",
   "execution_count": null,
   "metadata": {
    "collapsed": true
   },
   "outputs": [],
   "source": []
  },
  {
   "cell_type": "code",
   "execution_count": null,
   "metadata": {
    "collapsed": true
   },
   "outputs": [],
   "source": []
  },
  {
   "cell_type": "code",
   "execution_count": null,
   "metadata": {
    "collapsed": true
   },
   "outputs": [],
   "source": []
  }
 ],
 "metadata": {
  "kernelspec": {
   "display_name": "Python 2",
   "language": "python",
   "name": "python2"
  },
  "language_info": {
   "codemirror_mode": {
    "name": "ipython",
    "version": 2
   },
   "file_extension": ".py",
   "mimetype": "text/x-python",
   "name": "python",
   "nbconvert_exporter": "python",
   "pygments_lexer": "ipython2",
   "version": "2.7.12"
  }
 },
 "nbformat": 4,
 "nbformat_minor": 0
}
